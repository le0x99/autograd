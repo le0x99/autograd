{
 "cells": [
  {
   "cell_type": "markdown",
   "id": "63b4ecf9-4a81-41d9-a6cb-7c716b286e5c",
   "metadata": {
    "tags": []
   },
   "source": [
    "# Assignment 2"
   ]
  },
  {
   "cell_type": "markdown",
   "id": "c1c83e01-bc09-4e64-82c4-0ddec77d67e7",
   "metadata": {
    "tags": []
   },
   "source": [
    "## Q1\n",
    "$$\n",
    "\\begin{array}{rl}\n",
    "Z =X / Y \\\\\n",
    "\\nabla X_{i j}=\\frac{\\partial l}{\\partial X_{i j}} & =\\sum_{a b} \\frac{\\partial l}{\\partial Z_{a b}} \\frac{\\partial Z_{a b}}{\\partial X_{i j}} \\\\\n",
    "& =\\sum_{a b} \\nabla Z_{a b} \\frac{\\partial[X / Y]_{a b}}{\\partial X_{i j}} \\\\\n",
    "& =\\sum_{a b} \\nabla Z_{a b} \\frac{\\partial\\left(\\frac{X_{a b}}{Y_{a b}}\\right)}{\\partial X_{i j}} \\\\\n",
    "& =\\nabla Z_{i j} \\frac{\\partial\\left(\\frac{X_{i j}}{Y_{i j}}\\right)}{\\partial X_{i j}} \\\\\n",
    "\\nabla X_{i j} & =\\nabla Z_{i j} \\frac{1}{Y_{i j}} \\\\\n",
    "\\nabla Y_{i j} & =\\nabla Z_{i j}\\left(-\\frac{X_{i j}}{Y_{i j}^{2}}\\right) \\\\\n",
    "\\nabla X & =\\frac{\\nabla Z}{Y} \\\\\n",
    "\\nabla Y & =-\\frac{Z \\times X}{Y^{\\cdot 2}}\n",
    "\\end{array}\n",
    "$$\n",
    "where $Y^{\\cdot 2}$ is the elementise application of $f(x) = x^2$."
   ]
  },
  {
   "cell_type": "markdown",
   "id": "50c87779-5a3f-4d8f-a131-1d24bb485068",
   "metadata": {
    "jp-MarkdownHeadingCollapsed": true,
    "tags": []
   },
   "source": [
    "## Q2\n",
    "\n",
    "$$\n",
    "\\begin{aligned} F: X \\rightarrow Y, Y_{i j} &=f\\left(X_{i j}\\right) \\\\ \\nabla X_{i j}=\\frac{\\partial l}{\\partial X_{i j}} &=\\sum_{a b c} \\frac{\\partial l}{\\partial Y_{a b c}} \\frac{\\partial Y_{a b c}}{\\partial X_{i j k}} \\\\ &=\\sum_{a b c} \\nabla Y_{a b c} \\frac{\\partial Y_{a b c}}{\\partial X_{i j k}} \\\\ &=\\sum_{a b c} \\nabla Y_{a b c} \\frac{\\partial f\\left(X_{a b c}\\right)}{\\partial X_{i j k}} \\\\ &=\\nabla Y_{i j k} \\frac{\\partial f\\left(X_{i j k}\\right)}{\\partial X_{i j k}} \\\\ &=\\nabla Y_{i j k} f^{\\prime}\\left(X_{i j k}\\right) \\forall f\\end{aligned}\n",
    "$$\n",
    "\n",
    "The vectoriZed operation then depends on $f$ of course."
   ]
  },
  {
   "cell_type": "markdown",
   "id": "f8ba2936-b536-4ee7-8633-fe6bfa058ca4",
   "metadata": {
    "tags": []
   },
   "source": [
    "## Q3\n",
    "\n",
    "\n",
    "$$\n",
    "W \\in \\mathbb{R}^{f \\times m},\n",
    "X \\in \\mathbb{R}^{n \\times f},\n",
    "Z \\leftarrow X \\circ W \\in \\mathbb{R}^{n \\times m}\n",
    "$$\n",
    "\n",
    "$$\n",
    "\\begin{aligned} \\nabla W_{i j}=\\frac{\\partial l}{\\partial W_{i j}} &=\\sum_{n m} \\frac{\\partial l}{\\partial Z_{n m}} \\frac{\\partial Z_{n m}}{\\partial W_{i j}} \\\\ &=\\sum_{n m} \\nabla Z_{n m} \\frac{\\partial Z_{n m}}{\\partial W_{i j}} \\\\ &=\\sum_{n m} \\nabla Z_{n m} \\frac{\\partial \\Sigma_{f} X_{n f} W_{f m}}{\\partial W_{i j}} \\\\ &=\\sum_{n} \\nabla Z_{n j} \\frac{\\partial X_{n i} W_{i j}}{\\partial W_{i j}} \\\\ \\nabla W_{i j} &=\\sum_{n} \\nabla Z_{n j} X_{n i} \\\\ \\nabla W &=X^{\\top} \\circ \\nabla Z \\end{aligned}\n",
    "$$\n",
    "\n",
    "and \n",
    "\n",
    "$$\n",
    "\\begin{aligned} \\nabla X_{i j} &=\\sum_{n m} \\nabla Z_{n m} \\frac{\\partial Z_{n m}}{\\partial X_{i j}} \\\\ &=\\sum_{n m} \\nabla Z_{n m} \\frac{\\partial \\sum_{f} X_{n f} W_{f m}}{\\partial X_{i j}} \\\\ &=\\sum_{m} \\nabla Z_{i m} \\frac{\\partial X_{i j} W_{j m}}{\\partial X_{i j}} \\\\ \\nabla X_{i j} &=\\sum_{m} \\nabla Z_{i m} W_{j m} \\\\ \\nabla X &= \\nabla Z \\cdot W^{\\top} \\end{aligned}\n",
    "$$\n",
    "\n"
   ]
  },
  {
   "cell_type": "markdown",
   "id": "e5c303d9-656e-4722-b56c-2b536f79affe",
   "metadata": {
    "tags": []
   },
   "source": [
    "## Q4\n",
    "$$\n",
    "f: \\mathbb{R}^{n} \\rightarrow \\mathbb{R}^{n \\times m}\n",
    "$$\n",
    "\n",
    "\n",
    "$$\n",
    "f(X)=\\underset{(n \\times 1)}{X}  \\underset{(1 \\times 16)}{\\mathbb{1}^{\\top}} \\to Z \\in \\mathbb{R}^{n \\times 16}\n",
    "$$\n",
    "\n",
    "$$\n",
    "\\begin{aligned} \\nabla X_{i} &=\\sum_{a b} \\frac{\\partial l}{\\partial Z_{a b}} \\frac{\\partial Z_{a b}}{\\partial X_{i}} \\\\ &=\\sum_{a b} \\nabla Z_{a b} \\frac{\\partial Z_{a b}}{\\partial X_{i}} \\\\ &=\\sum_{a b} \\nabla Z_{a b} \\frac{\\partial\\left[X \\mathbb{1}^{\\top} \\right]_{a b}}{\\partial X_{i}} \\\\ &=\\sum_{a b} \\nabla Z_{a b} \\frac{\\partial X_{a} \\cdot \\mathbb{1}^{\\top}_{b}}{\\partial X_{i}} \\\\ &=\\sum_{b} \\nabla Z_{i b} \\frac{\\partial X_{i} \\mathbb{1}^{\\top}_{b}}{\\partial X_{i}} \\\\ \\nabla X_{i} &=\\sum_{b} \\nabla Z_{i b} \\quad \\mathbb{1}^{\\top}_{b} \\\\ \\nabla X &=  \\nabla Z \\mathbb{1} \\end{aligned}\n",
    "$$"
   ]
  },
  {
   "cell_type": "markdown",
   "id": "37ba2979-b6cd-42cb-b1f0-94253b41ca66",
   "metadata": {},
   "source": [
    "## Q5"
   ]
  },
  {
   "cell_type": "code",
   "execution_count": 2,
   "id": "a6776ab0-8caf-4233-9929-9de7d3e69510",
   "metadata": {},
   "outputs": [],
   "source": [
    "import vugrad as vg\n",
    "import numpy as np"
   ]
  },
  {
   "cell_type": "code",
   "execution_count": 5,
   "id": "c3b540cd-3bc6-449d-b424-137ced156b67",
   "metadata": {},
   "outputs": [],
   "source": [
    "a = vg.TensorNode(np.random.randn(2, 2))\n",
    "b = vg.TensorNode(np.random.randn(2, 2))\n",
    "c = a + b"
   ]
  },
  {
   "cell_type": "markdown",
   "id": "be49e276-83a7-4c8d-b1ca-f80e0add8afd",
   "metadata": {},
   "source": [
    "### 5.1\n",
    "c.value is the value of the actual array that results from the operation. In this case elementwise addition of a and b.\n",
    "### 5.2\n",
    "c.source refers to the origin of the creation of c. A source should contain both the input objects as well as the operation, i.e. add(a, b)\n",
    "### 5.3\n",
    "c.source.inputs[0] must be a."
   ]
  },
  {
   "cell_type": "code",
   "execution_count": 17,
   "id": "d5fbdb08-10d2-42fb-9ab1-456cc2ab3fec",
   "metadata": {},
   "outputs": [
    {
     "data": {
      "text/plain": [
       "True"
      ]
     },
     "execution_count": 17,
     "metadata": {},
     "output_type": "execute_result"
    }
   ],
   "source": [
    "c.source.inputs[0] is a"
   ]
  },
  {
   "cell_type": "markdown",
   "id": "ebb35b47-fe48-43bf-ab32-43069a3ffb0d",
   "metadata": {},
   "source": [
    "### 5.4\n",
    "At this point c.grad should contain simply a placeholder for the gradient, possibly NaNs or Zeros."
   ]
  },
  {
   "cell_type": "markdown",
   "id": "93937cd3-e90a-4d93-8a57-d3b67d8d8065",
   "metadata": {
    "tags": []
   },
   "source": [
    "## Q6"
   ]
  },
  {
   "cell_type": "markdown",
   "id": "185f9967-73b1-4273-9166-8ec9b64f72b8",
   "metadata": {},
   "source": [
    "### 6.1\n",
    "Theres the Op class which defines the operation under the hood. We dont need to explictily instantiate it, but we refer to it when we create OpNodes.\n",
    "\n",
    "### 6.2\n",
    "In vugrad the <+> operator has been overloaded to do tensor (elementwise) addition of objects instead of scalar addition as it would be the standard in python. In line 104 (core.py) onwards we can see how different builtin operations have been overloaded. In line 317, an add class is additionally defined (inherits from Op of course).\n",
    "\n",
    "### 6.3\n",
    "The actual output is computed when we are upstreaming the computation graph. The do_forward method of the Op class is called when the forward pass is performed on the entire computation graph. Code can be found in 217:249."
   ]
  },
  {
   "cell_type": "markdown",
   "id": "cc58ca8d-c550-4c84-8a6b-75f75b1c8b74",
   "metadata": {
    "tags": []
   },
   "source": [
    "## Q7\n",
    "\n",
    "\n",
    "The backward function is called on the TensorNode as soon as we collect gradients when calling loss.backward(), triggering the cascade of backward()-calls on its parents and so forth. <--Line 97-->\n"
   ]
  },
  {
   "cell_type": "markdown",
   "id": "590237fd-81ef-4350-b511-e6fa5431e36a",
   "metadata": {
    "jp-MarkdownHeadingCollapsed": true,
    "tags": []
   },
   "source": [
    "### Q8\n",
    "\n",
    "\n",
    "\n",
    "a. NORMALIZE\n",
    "\n",
    "Let\n",
    "\n",
    "$$\n",
    "X \\in \\mathbb{R}^{m \\times n} \\\\\n",
    "Z = \\frac{X}{X  \\mathbb{1}}\n",
    "$$\n",
    "\n",
    "Then\n",
    "\n",
    "$$\n",
    "\\begin{aligned}\n",
    "X_{i j}^{\\nabla} &=\\sum_{a b} \\frac{\\partial l}{\\partial Z_{a b}} \\cdot \\frac{\\partial Z_{a b}}{\\partial X_{i j}}=\\sum_{a b} Z_{a b}^{\\nabla} \\frac{\\partial \\frac{X_{a b}}{\\sum_{c} X_{a c}}}{\\partial X_{i j}}=\\sum_{b} Z_{i b} \\cdot \\frac{\\partial \\frac{X_{i b}}{\\sum_{c} X_{i c}}}{\\partial X_{i j}}=\\\\\n",
    "&=\\sum_{b} Z_{i b}\\left(\\frac{X_{i b}^{\\prime}}{\\sum_{c} X_{i c}}-\\frac{X_{i b}}{\\left(\\sum_{c} X_{i c}\\right)^{2}}\\right)=\\sum_{b} Z_{i b}^{\\nabla} \\frac{X_{i b}^{\\prime}}{\\sum_{c} X_{i c}}-\\sum_{b} Z_{i b}^{\\nabla} \\cdot \\frac{X_{i b}}{\\left(\\sum_{c} X_{i c}\\right)^{2}} \\\\\n",
    "&=\\frac{Z_{i j}^{\\nabla}}{\\sum_{c} X_{i c}}-\\sum_{b} Z_{i b}^{\\nabla} \\cdot \\frac{X_{i b}}{\\left(\\sum_{c} X_{i c}\\right)^{2}} \\\\\n",
    "X^{\\nabla} &=\\frac{Z^{\\nabla}}{X \\cdot \\mathbb{1}}-\\left(\\frac{Z^{\\nabla} \\odot X}{(X \\cdot \\mathbb{1})^{\\circ 2}}\\right) \\cdot \\mathbb{1}\n",
    "\\end{aligned}\n",
    "$$\n",
    "\n",
    "b. EXPAND-SINGLTON \n",
    "\n",
    "\n",
    "input \n",
    "\n",
    "$$\n",
    "X \\in \\mathbb{R}^{a \\times b \\times ...  \\times 1  \\times ... }\n",
    "$$\n",
    "\n",
    "number of repeats expansions in the singleton : $K$.\n",
    "\n",
    "$$\n",
    "f: \\mathbb{R}^{n \\times 1} \\rightarrow \\mathbb{R}^{n \\times K}\n",
    "$$\n",
    "\n",
    "$$\n",
    "f(X)=\\underset{(n \\times 1)}{X}  \\underset{(1 \\times K)}{\\mathbb{1}^{\\top}} \\to Z \\in \\mathbb{R}^{n \\times K}\n",
    "$$\n",
    "\n",
    "$$\n",
    "\\begin{aligned} \\nabla X_{i} &=\\sum_{a b} \\frac{\\partial l}{\\partial Z_{a b}} \\frac{\\partial Z_{a b}}{\\partial X_{i}} \\\\ &=\\sum_{a b} \\nabla Z_{a b} \\frac{\\partial Z_{a b}}{\\partial X_{i}} \\\\ &=\\sum_{a b} \\nabla Z_{a b} \\frac{\\partial\\left[X \\mathbb{1}^{\\top} \\right]_{a b}}{\\partial X_{i}} \\\\ &=\\sum_{a b} \\nabla Z_{a b} \\frac{\\partial X_{a} \\cdot \\mathbb{1}^{\\top}_{b}}{\\partial X_{i}} \\\\ &=\\sum_{b} \\nabla Z_{i b} \\frac{\\partial X_{i} \\mathbb{1}^{\\top}_{b}}{\\partial X_{i}} \\\\ \\nabla X_{i} &=\\sum_{b} \\nabla Z_{i b} \\quad \\mathbb{1}^{\\top}_{b} \\\\ \\nabla X &=  \\nabla Z \\mathbb{1} \\end{aligned}\n",
    "$$\n",
    "\n",
    "\n",
    "c. EXPAND-SCALAR : a special case of expand, where a single scalar is being expanded to any shape. Its not implemented in vugrad \n",
    "\n",
    "$$\n",
    "\\begin{array}{c}\n",
    "s \\gets \\left(a, b, c_, \\ldots \\right) \\\\\n",
    "f(x, s)=Z \\in \\mathbb{R}^{s}, Z_{a b c ...}=x \\ \\forall \\ a b c ... \\ \\in s \\\\\n",
    "\\nabla x=\\sum_{a b} \\nabla Z_{a b} \\frac{\\partial Z_{a b}}{\\partial x} \\\\\n",
    "\\nabla x=\\sum_{a b} \\nabla Z_{a b} \\frac{\\partial x}{\\partial x} \\\\\n",
    "\\nabla x=\\sum_{a b} \\nabla Z_{a b} \\\\\n",
    "\\nabla x=\\mathbb{1}^{\\top} \\nabla Z_{a b} \\mathbb{1}\n",
    "\\end{array}\n",
    "$$"
   ]
  },
  {
   "cell_type": "markdown",
   "id": "53b94a16-6aab-4b7d-bbd4-1f6906707f0e",
   "metadata": {
    "tags": []
   },
   "source": [
    "## Q9\n",
    "\n",
    "\n",
    "```Python\n",
    "# The operation\n",
    "class relu(Op):\n",
    "    @staticmethod\n",
    "    def forward(context, input):\n",
    "        relu_x = np.fmax(input, np.Zeros(input.shape))\n",
    "        context['relu_x'] = relu_x \n",
    "        return relu_x\n",
    "\n",
    "    @staticmethod\n",
    "    def backward(context, goutput):\n",
    "        relu_x = context['relu_x']\n",
    "        return goutput * np.where(relu_x > 0, 1, 0)\n",
    "# The wrapper\n",
    "def relu_(x):\n",
    "    return relu.do_forward(x)\n",
    "\n",
    "\n"
   ]
  },
  {
   "cell_type": "markdown",
   "id": "7eb2a141-8464-491a-92c5-e5fe5b2fa574",
   "metadata": {},
   "source": [
    "Using a learning rate of `10e-6` both the sigmoid and the relu achieve a validation accuracy of 93-96 % **after a single epoch**. To be exact:\n",
    "\n",
    "93.32 (+- 1.98)\n",
    "96.01 (+- 1.42)\n",
    "\n",
    "again, after a single epoch ( runs : n=10 )\n",
    "\n",
    "When I continue training (5 epochs) , I observe an increase up to about 98% accuracy for the relu and 96% for the sigmoid. To summariZe, the relu is always 2-3% better in terms of validation accuracy gain per epoch. However I didnt notice any training speedup, which I expected."
   ]
  },
  {
   "cell_type": "markdown",
   "id": "99bdd6bd-d7b1-4f1f-b612-ff131ee6a6bc",
   "metadata": {
    "tags": []
   },
   "source": [
    "## Q10\n",
    "\n",
    "Since the model is already very good yielding a validation accuracy of 98% after just a couple of epochs, there is not so much I can experiment with to make it better. However what I can do is I can try to decrease the number of parameters of the model in a way that doesnt hurt the performance and without using a CNN. Right now the model has 2.493.130 parameters. By going adding more layers and using skip connections I can downsiZe the model significantly. With\n",
    "\n",
    "```python\n",
    "            self.layer1 = vg.Linear(input_size, hidden_size)\n",
    "            self.layer2 = vg.Linear(hidden_size, hidden_size)            \n",
    "            self.layer3 = vg.Linear(hidden_size, hidden_size)\n",
    "            self.layer4 = vg.Linear(hidden_size, hidden_size)\n",
    "            self.layer5 = vg.Linear(hidden_size, hidden_size)\n",
    "            \n",
    "  ```\n",
    "and doing the forward like this :\n",
    "  \n",
    "```python\n",
    "            \n",
    "            \n",
    "            Z1 = self.layer1(input)\n",
    "            A1 = vg.relu_(Z1)     \n",
    "            \n",
    "            Z2 = self.layer2(A1)\n",
    "            A2 = vg.relu_(Z2 + A1)\n",
    "            \n",
    "            Z3 = self.layer3(A2)\n",
    "            A3 = vg.relu_(Z3 + A2)\n",
    "            \n",
    "            Z4 = self.layer4(A3)\n",
    "            A4 = vg.relu_(Z4 + A3)  \n",
    "\n",
    "            Z5 = self.layer5(A4)\n",
    "            A5 = output = vg.logsoftmax(Z5)\n",
    "```\n",
    "            \n",
    "I am having a total of 4 weight sets and a total of 49.450 parameters, compared to the default model with 2.493.130 parameters my model is about 50 times smaller and trains at least 5 times faster."
   ]
  },
  {
   "cell_type": "code",
   "execution_count": 114,
   "id": "32e8e99f-2ae6-43cb-bda0-2ed56ea7917e",
   "metadata": {},
   "outputs": [],
   "source": [
    "import pandas as pd\n",
    "import seaborn as sns\n",
    "import matplotlib.pyplot as plt\n",
    "mynet = pd.read_csv(\"result.csv\",\n",
    "                    index_col=0)[[\"loss\",\"accuracy\", \"epoch\"]]\n",
    "default = pd.read_csv(\"result0.csv\",\n",
    "                      index_col=0)[[\"loss\",\"accuracy\", \"epoch\"]]\n",
    "\n",
    "mynet[\"model\"] = \"tiny\"\n",
    "default[\"model\"] = \"default\"\n",
    "df = mynet.append(default).reset_index(drop=True)"
   ]
  },
  {
   "cell_type": "code",
   "execution_count": 129,
   "id": "7fc1a49d-cbae-4e93-aa66-0a29195c9547",
   "metadata": {},
   "outputs": [
    {
     "data": {
      "text/plain": [
       "<AxesSubplot:xlabel='epoch', ylabel='accuracy'>"
      ]
     },
     "execution_count": 129,
     "metadata": {},
     "output_type": "execute_result"
    },
    {
     "data": {
      "image/png": "[encoded data removed]",
      "text/plain": [
       "<Figure size 864x504 with 2 Axes>"
      ]
     },
     "metadata": {
      "needs_background": "light"
     },
     "output_type": "display_data"
    }
   ],
   "source": [
    "fig, axes = plt.subplots(1,2,sharey=False, figsiZe=(12,7))\n",
    "sns.lineplot(data=df[df.epoch >= 1], x=\"epoch\", y=\"loss\", hue=\"model\",ax=axes[0])\n",
    "sns.lineplot(data=df[df.epoch >= 1], x=\"epoch\", y=\"accuracy\", hue=\"model\",ax=axes[1])"
   ]
  },
  {
   "cell_type": "markdown",
   "id": "5b79b352-63d1-4126-beac-5413c1b3405d",
   "metadata": {},
   "source": [
    "\n",
    "We can see that my tiny model is a little bit worse (~ -1%) accuracy (10 runs with 20 epochs each) , but it has 50x less parameters and trains much faster. Note that epoch 1 was omitted from the chart."
   ]
  },
  {
   "cell_type": "markdown",
   "id": "63dd9196-8305-4513-aad2-c7300d916552",
   "metadata": {
    "tags": []
   },
   "source": [
    "## Q11\n",
    "\n"
   ]
  },
  {
   "cell_type": "markdown",
   "id": "43405c6f-3803-452a-8321-63de2e893c24",
   "metadata": {},
   "source": [
    "I changed the default hyperparameter configuration by looking at different values of the learning rate and batch size and epochs. The results are not particularly interesting, as we see the expected behaviour. row0 represents the default config (= Nothing changed, just using Adam instead of SGDM)"
   ]
  },
  {
   "cell_type": "code",
   "execution_count": 209,
   "id": "20a2541d-e6d1-4502-bc9f-5b383ac7fc7d",
   "metadata": {},
   "outputs": [
    {
     "data": {
      "text/html": [
       "<div>\n",
       "<style scoped>\n",
       "    .dataframe tbody tr th:only-of-type {\n",
       "        vertical-align: middle;\n",
       "    }\n",
       "\n",
       "    .dataframe tbody tr th {\n",
       "        vertical-align: top;\n",
       "    }\n",
       "\n",
       "    .dataframe thead th {\n",
       "        text-align: right;\n",
       "    }\n",
       "</style>\n",
       "<table border=\"1\" class=\"dataframe\">\n",
       "  <thead>\n",
       "    <tr style=\"text-align: right;\">\n",
       "      <th></th>\n",
       "      <th>Test Accuracy</th>\n",
       "      <th>lr</th>\n",
       "    </tr>\n",
       "  </thead>\n",
       "  <tbody>\n",
       "    <tr>\n",
       "      <th>0</th>\n",
       "      <td>62.13</td>\n",
       "      <td>0.00100</td>\n",
       "    </tr>\n",
       "    <tr>\n",
       "      <th>1</th>\n",
       "      <td>63.61</td>\n",
       "      <td>0.00010</td>\n",
       "    </tr>\n",
       "    <tr>\n",
       "      <th>2</th>\n",
       "      <td>64.72</td>\n",
       "      <td>0.00001</td>\n",
       "    </tr>\n",
       "  </tbody>\n",
       "</table>\n",
       "</div>"
      ],
      "text/plain": [
       "   Test Accuracy       lr\n",
       "0          62.13  0.00100\n",
       "1          63.61  0.00010\n",
       "2          64.72  0.00001"
      ]
     },
     "execution_count": 209,
     "metadata": {},
     "output_type": "execute_result"
    }
   ],
   "source": [
    "lr_results"
   ]
  },
  {
   "cell_type": "code",
   "execution_count": 207,
   "id": "016cac95-2e62-472f-8cbc-581655f04600",
   "metadata": {},
   "outputs": [
    {
     "data": {
      "text/html": [
       "<div>\n",
       "<style scoped>\n",
       "    .dataframe tbody tr th:only-of-type {\n",
       "        vertical-align: middle;\n",
       "    }\n",
       "\n",
       "    .dataframe tbody tr th {\n",
       "        vertical-align: top;\n",
       "    }\n",
       "\n",
       "    .dataframe thead th {\n",
       "        text-align: right;\n",
       "    }\n",
       "</style>\n",
       "<table border=\"1\" class=\"dataframe\">\n",
       "  <thead>\n",
       "    <tr style=\"text-align: right;\">\n",
       "      <th></th>\n",
       "      <th>Test Accuracy</th>\n",
       "      <th>batch_size</th>\n",
       "    </tr>\n",
       "  </thead>\n",
       "  <tbody>\n",
       "    <tr>\n",
       "      <th>0</th>\n",
       "      <td>62.13</td>\n",
       "      <td>4</td>\n",
       "    </tr>\n",
       "    <tr>\n",
       "      <th>1</th>\n",
       "      <td>61.41</td>\n",
       "      <td>8</td>\n",
       "    </tr>\n",
       "    <tr>\n",
       "      <th>2</th>\n",
       "      <td>58.42</td>\n",
       "      <td>16</td>\n",
       "    </tr>\n",
       "  </tbody>\n",
       "</table>\n",
       "</div>"
      ],
      "text/plain": [
       "   Test Accuracy  batch_size\n",
       "0          62.13           4\n",
       "1          61.41           8\n",
       "2          58.42          16"
      ]
     },
     "execution_count": 207,
     "metadata": {},
     "output_type": "execute_result"
    }
   ],
   "source": [
    "batch_results"
   ]
  },
  {
   "cell_type": "code",
   "execution_count": 219,
   "id": "414fc13d-9234-4c9a-838b-18b63642660d",
   "metadata": {},
   "outputs": [
    {
     "data": {
      "text/html": [
       "<div>\n",
       "<style scoped>\n",
       "    .dataframe tbody tr th:only-of-type {\n",
       "        vertical-align: middle;\n",
       "    }\n",
       "\n",
       "    .dataframe tbody tr th {\n",
       "        vertical-align: top;\n",
       "    }\n",
       "\n",
       "    .dataframe thead th {\n",
       "        text-align: right;\n",
       "    }\n",
       "</style>\n",
       "<table border=\"1\" class=\"dataframe\">\n",
       "  <thead>\n",
       "    <tr style=\"text-align: right;\">\n",
       "      <th></th>\n",
       "      <th>Test Accuracy</th>\n",
       "      <th>n_epochs</th>\n",
       "    </tr>\n",
       "  </thead>\n",
       "  <tbody>\n",
       "    <tr>\n",
       "      <th>0</th>\n",
       "      <td>58.51</td>\n",
       "      <td>4</td>\n",
       "    </tr>\n",
       "    <tr>\n",
       "      <th>1</th>\n",
       "      <td>62.13</td>\n",
       "      <td>8</td>\n",
       "    </tr>\n",
       "    <tr>\n",
       "      <th>2</th>\n",
       "      <td>65.02</td>\n",
       "      <td>16</td>\n",
       "    </tr>\n",
       "  </tbody>\n",
       "</table>\n",
       "</div>"
      ],
      "text/plain": [
       "   Test Accuracy  n_epochs\n",
       "0          58.51         4\n",
       "1          62.13         8\n",
       "2          65.02        16"
      ]
     },
     "execution_count": 219,
     "metadata": {},
     "output_type": "execute_result"
    }
   ],
   "source": [
    "epoch_results"
   ]
  },
  {
   "cell_type": "markdown",
   "id": "6791e5e3-4ca8-49b3-9bf3-93b06199bbc1",
   "metadata": {},
   "source": [
    "Compared to the default hyperparams, increasing the number of epochs as well as using a smaller learning rate might be a good idea."
   ]
  },
  {
   "cell_type": "markdown",
   "id": "fb14e565-4cdf-48c4-a02e-70cd31ff94e9",
   "metadata": {},
   "source": [
    "## Q12\n",
    "\n",
    "\n"
   ]
  },
  {
   "cell_type": "markdown",
   "id": "4fe9d04c-1f86-4476-813a-173f960a7699",
   "metadata": {},
   "source": [
    "The network is already quite efficient in terms of size due to the use of the specialized convolutional layers. I added some standard tricks to the architecture : dropout in the FC layers, and Batchnorm across the whole model.\n",
    "\n",
    "```python\n",
    "\n",
    "class myNet(nn.Module):\n",
    "    def __init__(self):\n",
    "        super().__init__()        \n",
    "        self.layers = nn.Sequential(\n",
    "            nn.BatchNorm2d(3),\n",
    "            nn.Conv2d(3, 6, 5),\n",
    "            nn.ReLU(),\n",
    "            nn.BatchNorm2d(6),\n",
    "            nn.MaxPool2d(2, 2),\n",
    "            nn.Conv2d(6, 16, 5),\n",
    "            nn.ReLU(),\n",
    "            nn.BatchNorm2d(16),\n",
    "            nn.MaxPool2d(2, 2),\n",
    "            nn.Flatten(),\n",
    "            nn.Linear(16 * 5 * 5, 120),\n",
    "            nn.ReLU(),\n",
    "            nn.BatchNorm1d(120),\n",
    "            nn.Dropout(0.5),\n",
    "            nn.Linear(120, 84),\n",
    "            nn.ReLU(),\n",
    "            nn.BatchNorm1d(84),\n",
    "            nn.Linear(84, 10))\n",
    "            \n",
    "    def forward(self, x):\n",
    "        return self.layers(x)\n",
    "```"
   ]
  },
  {
   "cell_type": "code",
   "execution_count": null,
   "id": "19bd675e-bc21-41db-a4fd-77dae944b5b1",
   "metadata": {},
   "outputs": [
    {
     "data": {
      "text/plain": [
       "<AxesSubplot:>"
      ]
     },
     "execution_count": 75,
     "metadata": {},
     "output_type": "execute_result"
    },
    {
     "data": {
      "image/png": "[encoded data removed]",
      "text/plain": [
       "<Figure size 1008x432 with 2 Axes>"
      ]
     },
     "metadata": {
      "needs_background": "light"
     },
     "output_type": "display_data"
    }
   ],
   "source": [
    "df = df1.append(df2).reset_index(drop=True)\n",
    "import matplotlib.pyplot as plt, seaborn as sns\n",
    "fig, axes = plt.subplots(nrows=1, ncols=2, figsize=(14,6))\n",
    "sns.lineplot(data=df, x=\"epoch\", y=\"loss\", hue=\"model\",ax=axes[0])\n",
    "accuracy_results.boxplot(ax=axes[1])"
   ]
  },
  {
   "cell_type": "markdown",
   "id": "804fc8fb-4559-47a5-8c17-fd978f1977e5",
   "metadata": {},
   "source": [
    "For a total of 5 runs with 10 epochs each, above we see the learning curve as well as the test acc distributions. My model is significantly worse than the default model, although it uses batchnorm and dropout. I guess dropout of 0.5 is just making the model underfit. 0.1 or simply doubling the epochs might give a different view."
   ]
  },
  {
   "cell_type": "code",
   "execution_count": null,
   "id": "1241f09a-e774-4740-a057-21adda2922b2",
   "metadata": {},
   "outputs": [],
   "source": []
  },
  {
   "cell_type": "code",
   "execution_count": null,
   "id": "014d2e6c-30db-482c-9d57-602904c8a2f2",
   "metadata": {},
   "outputs": [],
   "source": []
  }
 ],
 "metadata": {
  "kernelspec": {
   "display_name": "Python 3 (ipykernel)",
   "language": "python",
   "name": "python3"
  },
  "language_info": {
   "codemirror_mode": {
    "name": "ipython",
    "version": 3
   },
   "file_extension": ".py",
   "mimetype": "text/x-python",
   "name": "python",
   "nbconvert_exporter": "python",
   "pygments_lexer": "ipython3",
   "version": "3.9.7"
  }
 },
 "nbformat": 4,
 "nbformat_minor": 5
}
